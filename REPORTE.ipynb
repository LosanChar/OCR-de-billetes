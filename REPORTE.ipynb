{
  "nbformat": 4,
  "nbformat_minor": 0,
  "metadata": {
    "colab": {
      "name": "Lab4_Lopez_Santamaria_Carlos_REPORTE.ipynb",
      "provenance": [],
      "include_colab_link": true
    },
    "kernelspec": {
      "name": "python3",
      "display_name": "Python 3"
    }
  },
  "cells": [
    {
      "cell_type": "markdown",
      "metadata": {
        "id": "view-in-github",
        "colab_type": "text"
      },
      "source": [
        "<a href=\"https://colab.research.google.com/github/LosanChar/OCR-de-billetes/blob/main/REPORTE.ipynb\" target=\"_parent\"><img src=\"https://colab.research.google.com/assets/colab-badge.svg\" alt=\"Open In Colab\"/></a>"
      ]
    },
    {
      "cell_type": "markdown",
      "metadata": {
        "id": "ekjSwm6CRNWq"
      },
      "source": [
        "# **Sistema OCR, tecnología incluyente**\n",
        "\n",
        "---\n",
        "\n"
      ]
    },
    {
      "cell_type": "markdown",
      "metadata": {
        "id": "-TdOuUioRN2W"
      },
      "source": [
        "Carlos López Santa maria\n",
        "\n",
        "losanc04@gmail.com"
      ]
    },
    {
      "cell_type": "markdown",
      "metadata": {
        "id": "0iHibtgJO0b7"
      },
      "source": [
        "# **Introduccion**"
      ]
    },
    {
      "cell_type": "markdown",
      "metadata": {
        "id": "ki5l8bfyOrjz"
      },
      "source": [
        "En nuestra sociedad actual, existe una cantidad considerable de personas con debilidad visual o invidentes. Lamentablemente, a pesar del enorme numero de casos con esta diferencia de capacidades aun siguen siendo una minora. Teniendo como consecuencia que hayan pocos espacios y herramientas que faciliten su interración con el resto de la sociedad. \n",
        "A tal grado que incluso en el aspecto laboral sea difícil desempeñar alguna labor. Por ello, en este escrito se propone el desarrollo de un sistema OCR (Optical Character Recognition) para poder beneficiar a este grupo minoritario. \n",
        "Un Sistema de Reconocimiento Óptico de Caracteres, es un proceso dirigido a la digitalización de textos, los cuales identifican automáticamente a partir de una imagen símbolos o caracteres que pertenecen a un determinado alfabeto, para luego almacenarlos en forma de datos. Así podremos interactuar con estos mediante un programa de edición de texto o similar.\n",
        "En los últimos años la digitalización de la información (textos, imágenes, sonido, etcétera) ha devenido un punto de interés para la sociedad. En el caso concreto de los textos, existen y se generan continuamente grandes cantidades de información escrita, tipográfica o manuscrita en todo tipo de soportes. En este contexto, poder automatizar la introducción de caracteres evitando la entrada por teclado implica un importante ahorro de recursos humanos y un aumento de la productividad, al mismo tiempo que se mantiene, o hasta se mejora, la calidad de muchos servicios."
      ]
    },
    {
      "cell_type": "markdown",
      "metadata": {
        "id": "VKbJj-iEOsO9"
      },
      "source": [
        "# **Metodologia**\n"
      ]
    },
    {
      "cell_type": "markdown",
      "metadata": {
        "id": "RVKpuGLkSdpj"
      },
      "source": [
        "La metodologia de desarrollo de este prototipo es conciso pues se cdivide en tres etapas; a diferencia de un proyecto más elaborado, no ocuparemos más fases pues como se menciono este es un prototipo al cual podremos ir haciendo mayores implementaciones. \n",
        "\n",
        "*   Fase de planificación\n",
        "\n",
        "En este punto de inicio del prototipo, se analiza las bases del prototipo, observando necesidades de las personas con débilidad visual, en este caso en particular observamos que la principila necesidad a cubrir es la lectura de textos ya sea digitales o físicos.\n",
        "*   Fase de desarrollo\n",
        "\n",
        "La fase desarrollo se lleva a cabo en cuatro pasos, los cuales se llevaran a cabo en el uso del dispisitivo de video, después hacemos la captura de la imagen en una zona especifica, para posteriormente llevar a cabo un procesamiento de la imagen haciendo una umbralización adaptativa. Una vez cumplida dicha modificación en la imágen, hacemos uso de una biblioteca llamada Tesseract para poder hacer el reconocimiento de caracteres en la imagén ya modificada. Por ultimo, para realizar pruebas de su correcto funcionamiento, comprobaremos su funcionamiento con fotográfias de billetes para observar que nuestro sistema hace el reconocimiento de su denominación, el cual nos dará como resultado un texto escrito.\n",
        "*   Fase de añadiduras\n",
        "\n",
        "En este proceso se contempla que ya una vez llevadas a cabo correctamente las pruebas y que su funcionamiento cumpla lo deseado, que es el reconocimiento de la denominación de un billete, procederemos a llevar la implementación de mejoras para dicho sistema OCR. Una de estas implementaciones que se considera es el uso de speechsynthesis.speak, una API que nos brinda la opción de leer de forma automatizada el texto extraido de los caracteres de las pruebas con billetes.\n"
      ]
    },
    {
      "cell_type": "markdown",
      "metadata": {
        "id": "8IjveH6fOsgk"
      },
      "source": [
        "# **Requerimientos**"
      ]
    },
    {
      "cell_type": "markdown",
      "metadata": {
        "id": "SmxnJf8hzag8"
      },
      "source": [
        "Para poder llevar la elaboración de este sistema OCR, no se requiere grandes herramientas tecnológicas, con el desarrollo actual contamos con la capacidad tecnológica tan a la mano para poder realizarlo. \n",
        "Hablo de que basta unicamente que contemos con un equipo de computo con conexión a internet, en donde hacemos uso de la herramienta que nos brinda Google, Colab. Además hacemos uso de lenguaje en Javascript para poder tomar captura de la imágen de nuestro interes a traves de un navegador web. Apoyamos este lenguaje con el predeterminado que nos brinda Colab, que es Python, lenguaje en el cual hacemos uso de herramientas para el procesamiento de la imágen como OpenCV, esta biblioteca nos brinda los metodos necesarios de una forma fácil para procesar imágenes, cargarlas y guardarlas. Además se requiere del motor llamado Tesseract OCR, que nos brinda de los metodos adecuados para el reconocimiento de caracteres sobre la imágen capturada y poder extraer la información contenida en esta."
      ]
    },
    {
      "cell_type": "markdown",
      "metadata": {
        "id": "SHtyIlFKOs1c"
      },
      "source": [
        "# **Diseño**"
      ]
    },
    {
      "cell_type": "markdown",
      "metadata": {
        "id": "S2voPU8Y3qyc"
      },
      "source": [
        "En el diseño de nuestro sistema se encuentra básicamente en líneas de código. Las cuales dividiremos en cuatro bloques de funcionamiento.\n",
        "\n",
        "El primer bloque es el que encontramos abajo, el cual unicamente su funcionamiento se encarga de solicitar permisos al dispositivo para ocupar la cámara web y poder tomar una captura de esta a traves de un click en un boton."
      ]
    },
    {
      "cell_type": "code",
      "metadata": {
        "id": "htkSSi2jUAPv"
      },
      "source": [
        "from IPython.display import display, Javascript\n",
        "from google.colab.output import eval_js\n",
        "from base64 import b64decode\n",
        "\n",
        "def take_photo(filename='photo.jpg', quality=0.8):\n",
        "  js = Javascript('''\n",
        "    async function takePhoto(quality) {\n",
        "      const div = document.createElement('div');\n",
        "      const capture = document.createElement('button');\n",
        "      capture.textContent = 'Capture';\n",
        "      div.appendChild(capture);\n",
        "\n",
        "      const video = document.createElement('video');\n",
        "      video.style.display = 'block';\n",
        "      const stream = await navigator.mediaDevices.getUserMedia({video: true});\n",
        "\n",
        "      document.body.appendChild(div);\n",
        "      div.appendChild(video);\n",
        "      video.srcObject = stream;\n",
        "      await video.play();\n",
        "\n",
        "      // Resize the output to fit the video element.\n",
        "      google.colab.output.setIframeHeight(document.documentElement.scrollHeight, true);\n",
        "\n",
        "      // Wait for Capture to be clicked.\n",
        "      await new Promise((resolve) => capture.onclick = resolve);\n",
        "\n",
        "      const canvas = document.createElement('canvas');\n",
        "      canvas.width = video.videoWidth;\n",
        "      canvas.height = video.videoHeight;\n",
        "      canvas.getContext('2d').drawImage(video, 0, 0);\n",
        "      stream.getVideoTracks()[0].stop();\n",
        "      div.remove();\n",
        "      return canvas.toDataURL('image/jpeg', quality);\n",
        "    }\n",
        "    ''')\n",
        "  display(js)\n",
        "  data = eval_js('takePhoto({})'.format(quality))\n",
        "  binary = b64decode(data.split(',')[1])\n",
        "  with open(filename, 'wb') as f:\n",
        "    f.write(binary)\n",
        "  return filename"
      ],
      "execution_count": null,
      "outputs": []
    },
    {
      "cell_type": "markdown",
      "metadata": {
        "id": "9v9CQQpd4mMt"
      },
      "source": [
        "Este bloque lo unico de lo que se encarga es de tomar la imágen capturada en el bloque anterior y mostrarnosla en pantalla."
      ]
    },
    {
      "cell_type": "code",
      "metadata": {
        "id": "buJCl90WhNfq"
      },
      "source": [
        "from IPython.display import Image\n",
        "try:\n",
        "  filename = take_photo()\n",
        "  print('Saved to {}'.format(filename))\n",
        "  \n",
        "  # Show the image which was just taken.\n",
        "  display(Image(filename))\n",
        "except Exception as err:\n",
        "  # Errors will be thrown if the user does not have a webcam or if they do not\n",
        "  # grant the page permission to access it.\n",
        "  print(str(err))"
      ],
      "execution_count": null,
      "outputs": []
    },
    {
      "cell_type": "markdown",
      "metadata": {
        "id": "GTW4sgQQ38CK"
      },
      "source": [
        "Para nuestro segundo bloque, nos encargaremos del procesamiento de la imágen la cual es cargada en esacala de grises con el apoyo de OpenCV para python y procedemos a llevar a cabo el procesamiento de unbralización adaptativa, para poder simplificar la imágen y poder capturar los caracteres correctamente.\n",
        "Al final se busca mostrar la imágen ya umbralizada y guardarla en formato jpg."
      ]
    },
    {
      "cell_type": "code",
      "metadata": {
        "id": "9A8KRg_HUCbL"
      },
      "source": [
        "import cv2\n",
        "from google.colab.patches import cv2_imshow\n",
        "img = cv2.imread('photo.jpg',cv2.IMREAD_GRAYSCALE)\n",
        "gray=cv2.medianBlur(img,5)\n",
        "dst2=cv2.adaptiveThreshold(gray,255,cv2.ADAPTIVE_THRESH_GAUSSIAN_C, cv2.THRESH_BINARY, 11,2)\n",
        "cv2_imshow(dst2)\n",
        "cv2.imwrite('umbra.jpg',dst2)\n"
      ],
      "execution_count": null,
      "outputs": []
    },
    {
      "cell_type": "markdown",
      "metadata": {
        "id": "eAc2-kNS5W_p"
      },
      "source": [
        "En este ultimo bloque de codigo es donde se lleva a cabo la implementación del motor de reconocimiento tesseract, el cual a traves de un llamado a la biblioteca PIL cargamos la imagen a traves de la dirección de esta misma. Y se lleva a cabo el reconocmiento de caracteres y extracción de información."
      ]
    },
    {
      "cell_type": "code",
      "metadata": {
        "id": "svO_pcLhvSJb"
      },
      "source": [
        "!sudo apt install tesseract-ocr\n",
        "!pip install pytesseract"
      ],
      "execution_count": null,
      "outputs": []
    },
    {
      "cell_type": "code",
      "metadata": {
        "id": "TQ8pnWcQvRfT"
      },
      "source": [
        "import pytesseract\n",
        "import shutil\n",
        "import os\n",
        "import random\n",
        "try:\n",
        "  from PIL import Image\n",
        "except ImportError:\n",
        "  import Image"
      ],
      "execution_count": null,
      "outputs": []
    },
    {
      "cell_type": "code",
      "metadata": {
        "id": "eZ3tPZ0btEDe"
      },
      "source": [
        "\n",
        "image_path_in_colab=('/content/umbra.jpg')\n",
        "extractedInformation = pytesseract.image_to_string(Image.open(image_path_in_colab))\n",
        "print(extractedInformation)"
      ],
      "execution_count": null,
      "outputs": []
    },
    {
      "cell_type": "markdown",
      "metadata": {
        "id": "isyNzr0JLNi8"
      },
      "source": [
        "# **Implementación**\n"
      ]
    },
    {
      "cell_type": "markdown",
      "metadata": {
        "id": "uP7N-14FO2qr"
      },
      "source": [
        "# **Evaluacion**\n"
      ]
    },
    {
      "cell_type": "markdown",
      "metadata": {
        "id": "wAP0n9qT7tVp"
      },
      "source": [
        "La evalución de este sistema se dio a traves del reconocimiento de la denominación de billetes. Para ello, la captura del billete en fotografia nos debe brindar de forma clara la imagen. Aquí se añade una captura.\n"
      ]
    },
    {
      "cell_type": "code",
      "metadata": {
        "outputId": "f501cfff-949c-42fb-c9da-5cd973135ee3",
        "id": "-zeh7avl8ler",
        "colab": {
          "base_uri": "https://localhost:8080/",
          "height": 514
        }
      },
      "source": [
        "from IPython.display import Image\n",
        "try:\n",
        "  filename = take_photo()\n",
        "  print('Saved to {}'.format(filename))\n",
        "  \n",
        "  # Show the image which was just taken.\n",
        "  display(Image(filename))\n",
        "except Exception as err:\n",
        "  # Errors will be thrown if the user does not have a webcam or if they do not\n",
        "  # grant the page permission to access it.\n",
        "  print(str(err))"
      ],
      "execution_count": null,
      "outputs": [
        {
          "output_type": "display_data",
          "data": {
            "application/javascript": [
              "\n",
              "    async function takePhoto(quality) {\n",
              "      const div = document.createElement('div');\n",
              "      const capture = document.createElement('button');\n",
              "      capture.textContent = 'Capture';\n",
              "      div.appendChild(capture);\n",
              "\n",
              "      const video = document.createElement('video');\n",
              "      video.style.display = 'block';\n",
              "      const stream = await navigator.mediaDevices.getUserMedia({video: true});\n",
              "\n",
              "      document.body.appendChild(div);\n",
              "      div.appendChild(video);\n",
              "      video.srcObject = stream;\n",
              "      await video.play();\n",
              "\n",
              "      // Resize the output to fit the video element.\n",
              "      google.colab.output.setIframeHeight(document.documentElement.scrollHeight, true);\n",
              "\n",
              "      // Wait for Capture to be clicked.\n",
              "      await new Promise((resolve) => capture.onclick = resolve);\n",
              "\n",
              "      const canvas = document.createElement('canvas');\n",
              "      canvas.width = video.videoWidth;\n",
              "      canvas.height = video.videoHeight;\n",
              "      canvas.getContext('2d').drawImage(video, 0, 0);\n",
              "      stream.getVideoTracks()[0].stop();\n",
              "      div.remove();\n",
              "      return canvas.toDataURL('image/jpeg', quality);\n",
              "    }\n",
              "    "
            ],
            "text/plain": [
              "<IPython.core.display.Javascript object>"
            ]
          },
          "metadata": {
            "tags": []
          }
        },
        {
          "output_type": "stream",
          "text": [
            "Saved to photo.jpg\n"
          ],
          "name": "stdout"
        },
        {
          "output_type": "display_data",
          "data": {
            "image/jpeg": "[encoded data removed]",
            "text/plain": [
              "<IPython.core.display.Image object>"
            ]
          },
          "metadata": {
            "tags": []
          }
        }
      ]
    },
    {
      "cell_type": "markdown",
      "metadata": {
        "id": "OVZJ7tBn8mry"
      },
      "source": [
        "Como se puede observar los niveles de iluminación varian por lo que una umbralización fija nos daría errores o perderiamos cierta información. Para ello, ocupamos la umbralización adaptativa, que nos beneficia por la variación ya mencionada. Una vez aplicada dicho procesamiento, nos muestra un resultado como este.\n"
      ]
    },
    {
      "cell_type": "code",
      "metadata": {
        "outputId": "b8f2efe2-5039-4bb7-d483-28ec2ed64808",
        "id": "gRqsCV9v88OV",
        "colab": {
          "base_uri": "https://localhost:8080/",
          "height": 514
        }
      },
      "source": [
        "import cv2\n",
        "from google.colab.patches import cv2_imshow\n",
        "img = cv2.imread('photo.jpg',cv2.IMREAD_GRAYSCALE)\n",
        "gray=cv2.medianBlur(img,5)\n",
        "dst2=cv2.adaptiveThreshold(gray,255,cv2.ADAPTIVE_THRESH_GAUSSIAN_C, cv2.THRESH_BINARY, 11,2)\n",
        "cv2_imshow(dst2)\n",
        "cv2.imwrite('umbra.jpg',dst2)\n"
      ],
      "execution_count": null,
      "outputs": [
        {
          "output_type": "display_data",
          "data": {
            "image/png": "[encoded data removed]",
            "text/plain": [
              "<PIL.Image.Image image mode=L size=640x480 at 0x7F62FF712080>"
            ]
          },
          "metadata": {
            "tags": []
          }
        },
        {
          "output_type": "execute_result",
          "data": {
            "text/plain": [
              "True"
            ]
          },
          "metadata": {
            "tags": []
          },
          "execution_count": 116
        }
      ]
    },
    {
      "cell_type": "markdown",
      "metadata": {
        "id": "JiKfJPVZOmOO"
      },
      "source": [
        ""
      ]
    },
    {
      "cell_type": "markdown",
      "metadata": {
        "id": "dLDiGmyP8_BZ"
      },
      "source": [
        "Dicho procesamiento beneficia y facilita la tarea para el motor de reconocimiento Tesseract, el cual ya no cuenta con una variedad enorme de intensidades de color y luz con las cuales lidiar, pues ahora unicamente lo hace con dos tonos, blaco y negro. Mostrandonos como resultado los caracteres reconocidos por medio de la imágen procesada.\n"
      ]
    },
    {
      "cell_type": "code",
      "metadata": {
        "outputId": "0d572085-1b4c-4b59-b87a-781614023626",
        "id": "82OzbJMg9Xn_",
        "colab": {
          "base_uri": "https://localhost:8080/",
          "height": 85
        }
      },
      "source": [
        "\n",
        "image_path_in_colab=('/content/umbra.jpg')\n",
        "extractedInformation = pytesseract.image_to_string(Image.open(image_path_in_colab))\n",
        "print(extractedInformation)"
      ],
      "execution_count": null,
      "outputs": [
        {
          "output_type": "stream",
          "text": [
            "Bs 4\n",
            "” Banco de México _\n",
            "\n",
            "Cincuento Pesos: A\n"
          ],
          "name": "stdout"
        }
      ]
    },
    {
      "cell_type": "markdown",
      "metadata": {
        "id": "uXTxse4YO4Rk"
      },
      "source": [
        "# **Conclusiones**"
      ]
    },
    {
      "cell_type": "markdown",
      "metadata": {
        "id": "TgGHzZ477vER"
      },
      "source": [
        "Este prototipo nos enseña la facilidad con la que las herramientas tecnologicas actuales se pueden convertir en accesibles para personas con capacidades diferentes, brindando a distintos grupos sociales facilidades para poder integrarse a grupos mayoritarios. \n",
        "El poder implementar un OCR por propia cuenta de un usuario esta tan al alcance de la mano de cualquier persona que disponga de un equipo de computo y una conexión a internet. Pues el impacto que podria tener dicho prototipo puede ser benefico a tal grado de poder leer a poder que no poseen la capacidad visual."
      ]
    },
    {
      "cell_type": "markdown",
      "metadata": {
        "id": "bM_p3EjgO6Je"
      },
      "source": [
        "# **Bibliografia**\n",
        "\n",
        "Reconocimiento óptico de caracteres\n",
        "\n",
        "https://es.wikipedia.org/wiki/Reconocimiento_%C3%B3ptico_de_caracteres\n",
        "\n",
        "webcam\n",
        "\n",
        "https://colab.research.google.com/notebooks/snippets/advanced_outputs.ipynb#scrollTo=2viqYx97hPMi\n",
        "\n",
        "umbralizacion\n",
        "\n",
        "http://acodigo.blogspot.com/2017/08/umbralizacion-adaptativa-con-opencv.html\n",
        "\n",
        "guardar imagen\n",
        "\n",
        "https://www.geeksforgeeks.org/python-opencv-cv2-imwrite-method/\n",
        "\n",
        "uso de tesseract\n",
        "\n",
        "https://medium.com/@bhadreshpsavani/how-to-use-tesseract-library-for-ocr-in-google-colab-notebook-5da5470e4fe0\n"
      ]
    }
  ]
}